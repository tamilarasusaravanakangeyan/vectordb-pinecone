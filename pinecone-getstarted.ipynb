{
 "cells": [
  {
   "cell_type": "code",
   "execution_count": 1,
   "metadata": {},
   "outputs": [
    {
     "name": "stdout",
     "output_type": "stream",
     "text": [
      "Collecting pinecone-client\n",
      "  Downloading pinecone_client-4.1.0-py3-none-any.whl (215 kB)\n",
      "\u001b[2K     \u001b[90m━━━━━━━━━━━━━━━━━━━━━━━━━━━━━━━━━━━━━━━\u001b[0m \u001b[32m215.5/215.5 kB\u001b[0m \u001b[31m1.8 MB/s\u001b[0m eta \u001b[36m0:00:00\u001b[0ma \u001b[36m0:00:01\u001b[0m\n",
      "\u001b[?25hRequirement already satisfied: certifi>=2019.11.17 in /opt/anaconda3/envs/trade/lib/python3.11/site-packages (from pinecone-client) (2023.5.7)\n",
      "Requirement already satisfied: tqdm>=4.64.1 in /opt/anaconda3/envs/trade/lib/python3.11/site-packages (from pinecone-client) (4.66.4)\n",
      "Requirement already satisfied: typing-extensions>=3.7.4 in /opt/anaconda3/envs/trade/lib/python3.11/site-packages (from pinecone-client) (4.11.0)\n",
      "Requirement already satisfied: urllib3>=1.26.0 in /opt/anaconda3/envs/trade/lib/python3.11/site-packages (from pinecone-client) (2.0.2)\n",
      "Installing collected packages: pinecone-client\n",
      "Successfully installed pinecone-client-4.1.0\n",
      "Note: you may need to restart the kernel to use updated packages.\n"
     ]
    }
   ],
   "source": [
    "pip install pinecone-client"
   ]
  },
  {
   "cell_type": "code",
   "execution_count": 2,
   "metadata": {},
   "outputs": [],
   "source": [
    "from pinecone import Pinecone, ServerlessSpec\n",
    "pc = Pinecone(api_key=\"\")"
   ]
  },
  {
   "cell_type": "code",
   "execution_count": 15,
   "metadata": {},
   "outputs": [],
   "source": [
    "index_name = \"docs-quickstart-index\""
   ]
  },
  {
   "cell_type": "code",
   "execution_count": 16,
   "metadata": {},
   "outputs": [],
   "source": [
    "pc.create_index(\n",
    "    name=index_name,\n",
    "    dimension=2, # Replace with your model dimensions\n",
    "    metric=\"cosine\", # Replace with your model metric\n",
    "    spec=ServerlessSpec(\n",
    "        cloud=\"aws\",\n",
    "        region=\"us-east-1\"\n",
    "    )\n",
    ")"
   ]
  },
  {
   "cell_type": "code",
   "execution_count": 17,
   "metadata": {},
   "outputs": [
    {
     "data": {
      "text/plain": [
       "{'upserted_count': 3}"
      ]
     },
     "execution_count": 17,
     "metadata": {},
     "output_type": "execute_result"
    }
   ],
   "source": [
    "index = pc.Index(index_name)\n",
    "\n",
    "index.upsert(\n",
    "    vectors=[\n",
    "        {\"id\": \"vec1\", \"values\": [1.0, 1.5]},\n",
    "        {\"id\": \"vec2\", \"values\": [2.0, 1.0]},\n",
    "        {\"id\": \"vec3\", \"values\": [0.1, 3.0]},\n",
    "    ],\n",
    "    namespace=\"ns1\"\n",
    ")\n",
    "\n",
    "index.upsert(\n",
    "    vectors=[\n",
    "        {\"id\": \"vec1\", \"values\": [1.0, -2.5]},\n",
    "        {\"id\": \"vec2\", \"values\": [3.0, -2.0]},\n",
    "        {\"id\": \"vec3\", \"values\": [0.5, -1.5]},\n",
    "    ],\n",
    "    namespace=\"ns2\"\n",
    ")\n"
   ]
  },
  {
   "cell_type": "markdown",
   "metadata": {},
   "source": [
    "When upserting larger amounts of data, upsert data in batches of 100-500 vectors over multiple upsert requests."
   ]
  },
  {
   "cell_type": "code",
   "execution_count": 21,
   "metadata": {},
   "outputs": [
    {
     "name": "stdout",
     "output_type": "stream",
     "text": [
      "{'dimension': 2,\n",
      " 'index_fullness': 0.0,\n",
      " 'namespaces': {'ns1': {'vector_count': 3}, 'ns2': {'vector_count': 3}},\n",
      " 'total_vector_count': 6}\n"
     ]
    }
   ],
   "source": [
    "print(index.describe_index_stats())\n",
    "\n",
    "# Returns:\n",
    "# {'dimension': 2,\n",
    "#  'index_fullness': 0.0,\n",
    "#  'namespaces': {'ns1': {'vector_count': 3}, 'ns2': {'vector_count': 3}},\n",
    "#  'total_vector_count': 6}\n"
   ]
  },
  {
   "cell_type": "code",
   "execution_count": 22,
   "metadata": {},
   "outputs": [
    {
     "name": "stdout",
     "output_type": "stream",
     "text": [
      "{'matches': [{'id': 'vec1', 'score': 1.0, 'values': [1.0, 1.5]},\n",
      "             {'id': 'vec2', 'score': 0.868243158, 'values': [2.0, 1.0]},\n",
      "             {'id': 'vec3', 'score': 0.850068152, 'values': [0.1, 3.0]}],\n",
      " 'namespace': 'ns1',\n",
      " 'usage': {'read_units': 6}}\n",
      "{'matches': [{'id': 'vec1', 'score': 1.0, 'values': [1.0, -2.5]},\n",
      "             {'id': 'vec3', 'score': 0.998274386, 'values': [0.5, -1.5]},\n",
      "             {'id': 'vec2', 'score': 0.824041963, 'values': [3.0, -2.0]}],\n",
      " 'namespace': 'ns2',\n",
      " 'usage': {'read_units': 6}}\n"
     ]
    }
   ],
   "source": [
    "query_results1 = index.query(\n",
    "    namespace=\"ns1\",\n",
    "    vector=[1.0, 1.5],\n",
    "    top_k=3,\n",
    "    include_values=True\n",
    ")\n",
    "\n",
    "print(query_results1)\n",
    "\n",
    "query_results2 = index.query(\n",
    "    namespace=\"ns2\",\n",
    "    vector=[1.0,-2.5],\n",
    "    top_k=3,\n",
    "    include_values=True\n",
    ")\n",
    "\n",
    "print(query_results2)\n",
    "\n",
    "# Returns:\n",
    "# {'matches': [{'id': 'vec1', 'score': 1.0, 'values': [1.0, 1.5]},\n",
    "#              {'id': 'vec2', 'score': 0.868243158, 'values': [2.0, 1.0]},\n",
    "#              {'id': 'vec3', 'score': 0.850068152, 'values': [0.1, 3.0]}],\n",
    "#  'namespace': 'ns1',\n",
    "#  'usage': {'read_units': 6}}\n",
    "# {'matches': [{'id': 'vec1', 'score': 1.0, 'values': [1.0, -2.5]},\n",
    "#              {'id': 'vec3', 'score': 0.998274386, 'values': [0.5, -1.5]},\n",
    "#              {'id': 'vec2', 'score': 0.824041963, 'values': [3.0, -2.0]}],\n",
    "#  'namespace': 'ns2',\n",
    "#  'usage': {'read_units': 6}}\n"
   ]
  },
  {
   "cell_type": "markdown",
   "metadata": {},
   "source": [
    "Similarity Metric\t    Vector properties considered\n",
    "Euclidean distance\t    Magnitudes and direction\n",
    "Cosine similarity\t    Only direction\n",
    "Dot product similarity\tMagnitudes and direction\n",
    "\n",
    "Manhattan distance\n",
    "Minkowski distance\n",
    "Chebyshev distance\n",
    "\n",
    "**Similarity between two sets:**\n",
    "Jaccard similarity\n",
    "Sørensen–Dice coefficient\n",
    "\n",
    "**Similarity between strings:**\n",
    "Edit distance\n",
    "Levenshtein distance\n",
    "Lee distance\n",
    "Hamming distance\n",
    "Jaro distance\n",
    "\n",
    "**Similarity between two sequences:**\n",
    "Dynamic time warping"
   ]
  },
  {
   "cell_type": "markdown",
   "metadata": {},
   "source": [
    "Another commonly used metric that ignores 0-0 matches is Jaccard Similarity."
   ]
  },
  {
   "cell_type": "code",
   "execution_count": 20,
   "metadata": {},
   "outputs": [
    {
     "data": {
      "text/plain": [
       "'docs-quickstart-index'"
      ]
     },
     "execution_count": 20,
     "metadata": {},
     "output_type": "execute_result"
    }
   ],
   "source": [
    "index_name\n",
    "# pc.delete_index(index_name)"
   ]
  }
 ],
 "metadata": {
  "kernelspec": {
   "display_name": "trade",
   "language": "python",
   "name": "python3"
  },
  "language_info": {
   "codemirror_mode": {
    "name": "ipython",
    "version": 3
   },
   "file_extension": ".py",
   "mimetype": "text/x-python",
   "name": "python",
   "nbconvert_exporter": "python",
   "pygments_lexer": "ipython3",
   "version": "3.11.3"
  }
 },
 "nbformat": 4,
 "nbformat_minor": 2
}
